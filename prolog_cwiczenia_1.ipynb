{
  "nbformat": 4,
  "nbformat_minor": 0,
  "metadata": {
    "colab": {
      "provenance": []
    },
    "kernelspec": {
      "name": "python3",
      "display_name": "Python 3"
    },
    "language_info": {
      "name": "python"
    }
  },
  "cells": [
    {
      "cell_type": "code",
      "execution_count": null,
      "metadata": {
        "id": "Oo04Gem19uoM"
      },
      "outputs": [],
      "source": [
        "ojciec(jan, anna).\n",
        "ojciec(jan, krzys).\n",
        "ojciec(zdzisio, maria).\n",
        "ojciec(janusz, jan).\n",
        "ojciec(jan, kasia).\n",
        "matka(maria, piotr).\n",
        "matka(maria, basia).\n",
        "kobieta(anna).\n",
        "kobieta(maria).\n",
        "kobieta(kasia).\n",
        "facet(krzys).\n",
        "wiek(jan,50).\n",
        "wiek(anna,15).\n",
        "wiek(krzys,19).\n",
        "wiek(janusz,80).\n",
        "\n",
        "%2\n",
        "rodzic(X,Y):-ojciec(X,Y);matka(X,Y).\n",
        "\n",
        "%3\n",
        "dziadek(X,Z):-ojciec(X,Y),rodzic(Y,Z).\n",
        "\n",
        "%4\n",
        "siostra(Y,Z):-rodzic(X,Y),rodzic(X,Z),kobieta(Y).\n",
        "\n",
        "%5\n",
        "jest_rodzicem(X):-ojciec(X,_);matka(X,_).\n",
        "\n",
        "%6\n",
        "czyj_rodzic(X, ListaDzieci):-findall(Y, rodzic(X,Y), ListaDzieci).\n",
        "\n",
        "%7\n",
        "rodzic_cut(X, Y):-rodzic(X, Y),!.\n",
        "rodzic_bez_cut(X, Y):-rodzic(X, Y).\n",
        "\n",
        "%8 - nie rozumiem\n",
        "\n",
        "%9\n",
        "starszy(X,Y):-wiek(X, A), wiek(Y,B), A>B.\n",
        "\n",
        "%10\n",
        "wiek_wiecej_niz(N):-wiek(X,Y), Y>N, write(X), write(', '), fail.\n",
        "\n",
        "\n",
        "%11\n",
        ":- dynamic produkt/3.\n",
        "produkt(suszarka, 1, sektor_a).\n",
        "produkt(pralka, 2, sektor_b).\n",
        "\n",
        "dodaj_fakt(X):-assertz(X).\n",
        "usun_fakt(X):-retract(X).\n"
      ]
    }
  ]
}